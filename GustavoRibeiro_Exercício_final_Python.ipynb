{
  "nbformat": 4,
  "nbformat_minor": 0,
  "metadata": {
    "colab": {
      "provenance": [],
      "include_colab_link": true
    },
    "kernelspec": {
      "name": "python3",
      "display_name": "Python 3"
    },
    "language_info": {
      "name": "python"
    }
  },
  "cells": [
    {
      "cell_type": "markdown",
      "metadata": {
        "id": "view-in-github",
        "colab_type": "text"
      },
      "source": [
        "<a href=\"https://colab.research.google.com/github/Gustavo-RibMartins/python-basics/blob/main/GustavoRibeiro_Exerc%C3%ADcio_final_Python.ipynb\" target=\"_parent\"><img src=\"https://colab.research.google.com/assets/colab-badge.svg\" alt=\"Open In Colab\"/></a>"
      ]
    },
    {
      "cell_type": "markdown",
      "source": [
        "# Exercício avaliativo de Python Basic\n"
      ],
      "metadata": {
        "id": "Ze14NIEmY-D2"
      }
    },
    {
      "cell_type": "markdown",
      "source": [
        "1. Crie uma classe enviarMensagens que tenha como variável padrão para inicialização a mensagem (Deve estar no __init__)\n",
        "\n",
        "\n",
        "*   a classe deve ter um método enviar email com parâmetros email e titulo e estes serão usados na biblioteca de envio de email\n",
        "*   Use a biblioteca smtplib\n",
        "\n",
        "\n",
        "\n"
      ],
      "metadata": {
        "id": "j0-c_ZEeZinL"
      }
    },
    {
      "cell_type": "code",
      "source": [
        "import smtplib\n",
        "\n",
        "class enviarMensagens:\n",
        "  def __init__(self, mensagem):\n",
        "    self.mensagem = mensagem\n",
        "  def enviar_email(sender, receiver, message_ext, subject):\n",
        "    sender = \"gustavo.ribmartins@gmail.com\"\n",
        "    receiver = \"gustavo.ribmartins@gmail.com\"\n",
        "\n",
        "    message = f\"\"\"\\\n",
        "    Subject: Hi Mailtrap\n",
        "    To: {receiver}\n",
        "    From: {sender}\n",
        "\n",
        "    This is a test e-mail message.\"\"\"\n",
        "\n",
        "    with smtplib.SMTP(\"sandbox.smtp.mailtrap.io\", 2525) as server:\n",
        "      server.login(\"1416a8861fbf44\", \"26d523ca5d89d3\")\n",
        "      server.sendmail(sender, receiver, message)"
      ],
      "metadata": {
        "id": "fZaATqA9aUax"
      },
      "execution_count": 6,
      "outputs": []
    },
    {
      "cell_type": "markdown",
      "source": [
        "2. Crie uma classe com os seguintes métodos:\n",
        " \n",
        "\n",
        "*   verificar_servidor (Use o socket) como parâmetro, o método usa o ip/dominio e a porta, deve salvar em um arquivo csv dia e hora e o resultado ( se conseguiu ou não), por fim, deve enviar email caso tenha dado errado.\n",
        "*   verificar_portas (Use o nmap) como parâmetro, insira o dominio para teste e o resultado deve ser salvo em um arquivo csv para analises\n",
        "*   realizar_ping (use uma lib de ping de sua preferência) como parâmetro entre o ip/domínio e salve o resultado em um arquivo csv, caso tenha erro no ping, envie email informando o erro, o dia e hora do ocorrido.\n",
        "\n",
        "\n",
        "---\n",
        "\n",
        "\n",
        "**ps.: os dados não podem ser apagados e sim inseridos ao final do arquivo**\n",
        "\n",
        "\n",
        "\n"
      ],
      "metadata": {
        "id": "1T3VR1czZMOn"
      }
    },
    {
      "cell_type": "markdown",
      "source": [
        "Rode o programa, verificando o servidor, as portas abertas e vendo o ping com o seguintes IP´s/DOminos\n",
        "dominios_ips = ['186.202.153.153', 'www.google.com.br', 'minhacasa.edu.br']"
      ],
      "metadata": {
        "id": "qcGofAQcbddU"
      }
    },
    {
      "cell_type": "code",
      "source": [
        "!pip install ping3\n",
        "!sudo apt install nmap\n",
        "!pip install python3-nmap"
      ],
      "metadata": {
        "id": "V-krCQgvCO5m"
      },
      "execution_count": null,
      "outputs": []
    },
    {
      "cell_type": "code",
      "execution_count": 8,
      "metadata": {
        "id": "gjJ2NUFWYxSH"
      },
      "outputs": [],
      "source": [
        "from socket import *\n",
        "import time\n",
        "from ping3 import ping, verbose_ping\n",
        "import nmap3\n",
        "import pandas as pd\n",
        "\n",
        "class AnaliseServidor:\n",
        "  def __init__(self, ip):\n",
        "    self.ip_servidor = ip\n",
        "  def verificar_servidor(self):\n",
        "    startTime = time.time()\n",
        "    t_IP = gethostbyname(self.ip_servidor)\n",
        "    for i in range(79, 88):\n",
        "      s = socket(AF_INET, SOCK_STREAM)\n",
        "      conn = s.connect_ex((t_IP, i))\n",
        "      if(conn == 0) :\n",
        "        print ('Porta %d: Aberta' % (i,))\n",
        "      else:\n",
        "        enviarMensagens('gustavo.ribmartins@gmail.com','gustavo.ribmartins@gmail.com','Houve um erro na conexão','Erro de conexão')\n",
        "      s.close()\n",
        "    print('Tempo:', time.time() - startTime)\n",
        "  def realizar_ping(self):\n",
        "    print(ping(self.ip_servidor))\n",
        "    resultado_ping = []\n",
        "    resultado = ping(self.ip_servidor)\n",
        "    resultado_ping.append(resultado)\n",
        "    df_ping = pd.DataFrame(resultado_ping)\n",
        "    df_ping.to_csv('resultado_ping.csv')\n",
        "  def verificar_portas(self):\n",
        "    nmap = nmap3.Nmap()\n",
        "    consulta = nmap.scan_top_ports(self.ip_servidor) \n",
        "    print(consulta)\n",
        "    resultado_nmap = []\n",
        "    resultado = nmap.scan_top_ports(self.ip_servidor)\n",
        "    resultado_nmap.append(resultado)\n",
        "    df_namp = pd.DataFrame(resultado_nmap)\n",
        "    df_namp.to_csv('resultado_portas.csv')"
      ]
    },
    {
      "cell_type": "code",
      "source": [
        "teste1 = AnaliseServidor(\"186.202.153.153\")\n",
        "teste1.realizar_ping()\n",
        "teste1.verificar_portas()\n",
        "teste1.verificar_servidor()"
      ],
      "metadata": {
        "colab": {
          "base_uri": "https://localhost:8080/",
          "height": 376
        },
        "id": "QyBNHs4CCFCc",
        "outputId": "064e5bbe-f1c9-4f3f-981f-4e3897cddd78"
      },
      "execution_count": 9,
      "outputs": [
        {
          "output_type": "stream",
          "name": "stdout",
          "text": [
            "0.16734814643859863\n",
            "{'186.202.153.153': {'osmatch': {}, 'ports': [{'protocol': 'tcp', 'portid': '21', 'state': 'open', 'reason': 'syn-ack', 'reason_ttl': '59', 'service': {'name': 'ftp', 'method': 'table', 'conf': '3'}, 'cpe': [], 'scripts': []}, {'protocol': 'tcp', 'portid': '22', 'state': 'open', 'reason': 'syn-ack', 'reason_ttl': '59', 'service': {'name': 'ssh', 'method': 'table', 'conf': '3'}, 'cpe': [], 'scripts': []}, {'protocol': 'tcp', 'portid': '23', 'state': 'filtered', 'reason': 'no-response', 'reason_ttl': '0', 'service': {'name': 'telnet', 'method': 'table', 'conf': '3'}, 'cpe': [], 'scripts': []}, {'protocol': 'tcp', 'portid': '25', 'state': 'filtered', 'reason': 'no-response', 'reason_ttl': '0', 'service': {'name': 'smtp', 'method': 'table', 'conf': '3'}, 'cpe': [], 'scripts': []}, {'protocol': 'tcp', 'portid': '80', 'state': 'open', 'reason': 'syn-ack', 'reason_ttl': '59', 'service': {'name': 'http', 'method': 'table', 'conf': '3'}, 'cpe': [], 'scripts': []}, {'protocol': 'tcp', 'portid': '110', 'state': 'filtered', 'reason': 'no-response', 'reason_ttl': '0', 'service': {'name': 'pop3', 'method': 'table', 'conf': '3'}, 'cpe': [], 'scripts': []}, {'protocol': 'tcp', 'portid': '139', 'state': 'filtered', 'reason': 'no-response', 'reason_ttl': '0', 'service': {'name': 'netbios-ssn', 'method': 'table', 'conf': '3'}, 'cpe': [], 'scripts': []}, {'protocol': 'tcp', 'portid': '443', 'state': 'open', 'reason': 'syn-ack', 'reason_ttl': '59', 'service': {'name': 'https', 'method': 'table', 'conf': '3'}, 'cpe': [], 'scripts': []}, {'protocol': 'tcp', 'portid': '445', 'state': 'filtered', 'reason': 'no-response', 'reason_ttl': '0', 'service': {'name': 'microsoft-ds', 'method': 'table', 'conf': '3'}, 'cpe': [], 'scripts': []}, {'protocol': 'tcp', 'portid': '3389', 'state': 'filtered', 'reason': 'no-response', 'reason_ttl': '0', 'service': {'name': 'ms-wbt-server', 'method': 'table', 'conf': '3'}, 'cpe': [], 'scripts': []}], 'hostname': [{'name': 'hm8237.locaweb.com.br', 'type': 'PTR'}], 'macaddress': None, 'state': {'state': 'up', 'reason': 'echo-reply', 'reason_ttl': '59'}}, 'runtime': {'time': '1676735371', 'timestr': 'Sat Feb 18 15:49:31 2023', 'elapsed': '2.33', 'summary': 'Nmap done at Sat Feb 18 15:49:31 2023; 1 IP address (1 host up) scanned in 2.33 seconds', 'exit': 'success'}, 'stats': {'scanner': 'nmap', 'args': '/usr/bin/nmap -v -oX - --top-ports 10 186.202.153.153', 'start': '1676735368', 'startstr': 'Sat Feb 18 15:49:28 2023', 'version': '7.80', 'xmloutputversion': '1.04'}, 'task_results': [{'task': 'Ping Scan', 'time': '1676735369', 'extrainfo': '1 total hosts'}, {'task': 'Parallel DNS resolution of 1 host.', 'time': '1676735369'}, {'task': 'SYN Stealth Scan', 'time': '1676735371', 'extrainfo': '10 total ports'}]}\n"
          ]
        },
        {
          "output_type": "error",
          "ename": "TypeError",
          "evalue": "ignored",
          "traceback": [
            "\u001b[0;31m---------------------------------------------------------------------------\u001b[0m",
            "\u001b[0;31mTypeError\u001b[0m                                 Traceback (most recent call last)",
            "\u001b[0;32m<ipython-input-9-1b930bd7f3d0>\u001b[0m in \u001b[0;36m<module>\u001b[0;34m\u001b[0m\n\u001b[1;32m      2\u001b[0m \u001b[0mteste1\u001b[0m\u001b[0;34m.\u001b[0m\u001b[0mrealizar_ping\u001b[0m\u001b[0;34m(\u001b[0m\u001b[0;34m)\u001b[0m\u001b[0;34m\u001b[0m\u001b[0;34m\u001b[0m\u001b[0m\n\u001b[1;32m      3\u001b[0m \u001b[0mteste1\u001b[0m\u001b[0;34m.\u001b[0m\u001b[0mverificar_portas\u001b[0m\u001b[0;34m(\u001b[0m\u001b[0;34m)\u001b[0m\u001b[0;34m\u001b[0m\u001b[0;34m\u001b[0m\u001b[0m\n\u001b[0;32m----> 4\u001b[0;31m \u001b[0mteste1\u001b[0m\u001b[0;34m.\u001b[0m\u001b[0mverificar_servidor\u001b[0m\u001b[0;34m(\u001b[0m\u001b[0;34m)\u001b[0m\u001b[0;34m\u001b[0m\u001b[0;34m\u001b[0m\u001b[0m\n\u001b[0m",
            "\u001b[0;32m<ipython-input-8-ce32cc872ede>\u001b[0m in \u001b[0;36mverificar_servidor\u001b[0;34m(self)\u001b[0m\n\u001b[1;32m     17\u001b[0m         \u001b[0mprint\u001b[0m \u001b[0;34m(\u001b[0m\u001b[0;34m'Porta %d: Aberta'\u001b[0m \u001b[0;34m%\u001b[0m \u001b[0;34m(\u001b[0m\u001b[0mi\u001b[0m\u001b[0;34m,\u001b[0m\u001b[0;34m)\u001b[0m\u001b[0;34m)\u001b[0m\u001b[0;34m\u001b[0m\u001b[0;34m\u001b[0m\u001b[0m\n\u001b[1;32m     18\u001b[0m       \u001b[0;32melse\u001b[0m\u001b[0;34m:\u001b[0m\u001b[0;34m\u001b[0m\u001b[0;34m\u001b[0m\u001b[0m\n\u001b[0;32m---> 19\u001b[0;31m         \u001b[0menviarMensagens\u001b[0m\u001b[0;34m(\u001b[0m\u001b[0;34m'gustavo.ribmartins@gmail.com'\u001b[0m\u001b[0;34m,\u001b[0m\u001b[0;34m'gustavo.ribmartins@gmail.com'\u001b[0m\u001b[0;34m,\u001b[0m\u001b[0;34m'Houve um erro na conexão'\u001b[0m\u001b[0;34m,\u001b[0m\u001b[0;34m'Erro de conexão'\u001b[0m\u001b[0;34m)\u001b[0m\u001b[0;34m\u001b[0m\u001b[0;34m\u001b[0m\u001b[0m\n\u001b[0m\u001b[1;32m     20\u001b[0m       \u001b[0ms\u001b[0m\u001b[0;34m.\u001b[0m\u001b[0mclose\u001b[0m\u001b[0;34m(\u001b[0m\u001b[0;34m)\u001b[0m\u001b[0;34m\u001b[0m\u001b[0;34m\u001b[0m\u001b[0m\n\u001b[1;32m     21\u001b[0m     \u001b[0mprint\u001b[0m\u001b[0;34m(\u001b[0m\u001b[0;34m'Tempo:'\u001b[0m\u001b[0;34m,\u001b[0m \u001b[0mtime\u001b[0m\u001b[0;34m.\u001b[0m\u001b[0mtime\u001b[0m\u001b[0;34m(\u001b[0m\u001b[0;34m)\u001b[0m \u001b[0;34m-\u001b[0m \u001b[0mstartTime\u001b[0m\u001b[0;34m)\u001b[0m\u001b[0;34m\u001b[0m\u001b[0;34m\u001b[0m\u001b[0m\n",
            "\u001b[0;31mTypeError\u001b[0m: __init__() takes 2 positional arguments but 5 were given"
          ]
        }
      ]
    }
  ]
}